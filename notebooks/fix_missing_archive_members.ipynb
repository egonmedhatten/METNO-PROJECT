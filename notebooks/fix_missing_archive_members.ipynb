{
 "cells": [
  {
   "cell_type": "markdown",
   "id": "b996b0b0",
   "metadata": {},
   "source": [
    "# The ensemble builder produces a list of corrupt files. We fix them here."
   ]
  },
  {
   "cell_type": "code",
   "execution_count": 3,
   "id": "c477d5ff",
   "metadata": {},
   "outputs": [],
   "source": [
    "from download_MEPS_archive import get_urls, extract_single_member_data\n",
    "import xarray as xr\n",
    "from datetime import datetime"
   ]
  },
  {
   "cell_type": "code",
   "execution_count": 4,
   "id": "e9cc6f77",
   "metadata": {},
   "outputs": [],
   "source": [
    "dt = datetime(2023, 10, 10, 22)"
   ]
  },
  {
   "cell_type": "code",
   "execution_count": 5,
   "id": "89b61788",
   "metadata": {},
   "outputs": [
    {
     "name": "stdout",
     "output_type": "stream",
     "text": [
      "Found 5 members for 2023-10-10 22:00:00\n"
     ]
    },
    {
     "data": {
      "text/plain": [
       "['https://thredds.met.no/thredds/dodsC/meps25epsarchive/2023/10/10/22/meps_mbr013_sfc_20231010T22Z.ncml',\n",
       " 'https://thredds.met.no/thredds/dodsC/meps25epsarchive/2023/10/10/22/meps_mbr010_sfc_20231010T22Z.ncml',\n",
       " 'https://thredds.met.no/thredds/dodsC/meps25epsarchive/2023/10/10/22/meps_mbr007_sfc_20231010T22Z.ncml',\n",
       " 'https://thredds.met.no/thredds/dodsC/meps25epsarchive/2023/10/10/22/meps_mbr004_sfc_20231010T22Z.ncml',\n",
       " 'https://thredds.met.no/thredds/dodsC/meps25epsarchive/2023/10/10/22/meps_mbr003_sfc_20231010T22Z.ncml']"
      ]
     },
     "execution_count": 5,
     "metadata": {},
     "output_type": "execute_result"
    }
   ],
   "source": [
    "urls = get_urls(dt)\n",
    "urls"
   ]
  },
  {
   "cell_type": "code",
   "execution_count": 6,
   "id": "414710ad",
   "metadata": {},
   "outputs": [],
   "source": [
    "url = urls[0]"
   ]
  },
  {
   "cell_type": "code",
   "execution_count": 7,
   "id": "357f88f6",
   "metadata": {},
   "outputs": [],
   "source": [
    "ds = extract_single_member_data(url)"
   ]
  },
  {
   "cell_type": "code",
   "execution_count": 9,
   "id": "7fb84829",
   "metadata": {},
   "outputs": [],
   "source": [
    "name = url.split('/')[-1]\n",
    "year = f\"{dt.year}\"\n",
    "month = f\"{dt.month:02d}\"\n",
    "day = f\"{dt.day:02d}\"\n",
    "hour = f\"{dt.hour:02d}\""
   ]
  },
  {
   "cell_type": "code",
   "execution_count": 10,
   "id": "28eaad4d",
   "metadata": {},
   "outputs": [],
   "source": [
    "ds.to_netcdf(f'/home/johan/Documents/PhD/PREMACOP/METNO-project/MEPS_archive_ljungskile/{year}/{month}/{day}/{hour}/{name}')"
   ]
  }
 ],
 "metadata": {
  "kernelspec": {
   "display_name": "weather-forecast",
   "language": "python",
   "name": "python3"
  },
  "language_info": {
   "codemirror_mode": {
    "name": "ipython",
    "version": 3
   },
   "file_extension": ".py",
   "mimetype": "text/x-python",
   "name": "python",
   "nbconvert_exporter": "python",
   "pygments_lexer": "ipython3",
   "version": "3.11.13"
  }
 },
 "nbformat": 4,
 "nbformat_minor": 5
}
