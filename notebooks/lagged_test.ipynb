{
 "cells": [
  {
   "cell_type": "code",
   "execution_count": 30,
   "id": "ff0a2831",
   "metadata": {},
   "outputs": [],
   "source": [
    "import os\n",
    "import xarray as xr\n",
    "import pandas as pd\n",
    "from datetime import datetime, timedelta"
   ]
  },
  {
   "cell_type": "code",
   "execution_count": 31,
   "id": "d5f0cb39",
   "metadata": {},
   "outputs": [],
   "source": [
    "script_dir = os.getcwd() # os.path.dirname(os.path.abspath(__file__))\n",
    "\n",
    "# The directory where the downloader script saved the data, relative to this script\n",
    "BASE_DATA_DIR = os.path.join(script_dir, \"MEPS_archive_ljungskile\")\n",
    "\n",
    "# The directory where we will save the combined, lagged ensembles, relative to this script\n",
    "OUTPUT_DIR = os.path.join(script_dir, \"MEPS_archive_lagged_ljungskile\")\n",
    "os.makedirs(OUTPUT_DIR, exist_ok=True)\n",
    "\n",
    "# How many consecutive HOURLY runs to combine into one lagged ensemble.\n",
    "# 3 is a good starting point.\n",
    "NUM_RUNS_TO_LAG = 3\n",
    "# The desired number of forecast steps in the final ensemble\n",
    "TARGET_FORECAST_STEPS = 62 "
   ]
  },
  {
   "cell_type": "code",
   "execution_count": null,
   "id": "a908ead2",
   "metadata": {},
   "outputs": [],
   "source": [
    "def find_earliest_forecast_os(root_directory: str) -> datetime | None:\n",
    "    earliest_time = None\n",
    "\n",
    "    for dirpath, _, filenames in os.walk(root_directory):\n",
    "        # We only care about directories that contain files\n",
    "        if not filenames:\n",
    "            continue\n",
    "        \n",
    "        try:\n",
    "            # Split the path by the OS's separator ('/' or '\\')\n",
    "            parts = dirpath.split(os.sep)\n",
    "            \n",
    "            # Get the last 4 directory names for the time components\n",
    "            year, month, day, hour = map(int, parts[-4:])\n",
    "            \n",
    "            current_time = datetime(year, month, day, hour)\n",
    "            \n",
    "            if earliest_time is None or current_time < earliest_time:\n",
    "                earliest_time = current_time\n",
    "                \n",
    "        except (ValueError, IndexError):\n",
    "            # Ignore paths that don't fit the Y/M/D/H structure\n",
    "            continue\n",
    "            \n",
    "    return earliest_time\n",
    "\n",
    "# --- Example Usage ---\n",
    "earliest = find_earliest_forecast_os(BASE_DATA_DIR)"
   ]
  },
  {
   "cell_type": "code",
   "execution_count": 33,
   "id": "7c9c94a7",
   "metadata": {},
   "outputs": [],
   "source": [
    "earliest_ensemble = earliest + timedelta(hours=NUM_RUNS_TO_LAG)"
   ]
  },
  {
   "cell_type": "code",
   "execution_count": 39,
   "id": "da2d1b59",
   "metadata": {},
   "outputs": [],
   "source": [
    "target_issuance_dt = earliest_ensemble + timedelta(hours=40)\n",
    "\n",
    "all_run_datasets = []\n",
    "\n",
    "for i in range(NUM_RUNS_TO_LAG):\n",
    "    run_dt = target_issuance_dt - timedelta(hours=i)\n",
    "    run_dir_name = run_dt.strftime('%Y/%m/%d/%H')\n",
    "    run_path = os.path.join(BASE_DATA_DIR, run_dir_name)\n",
    "    members = [xr.load_dataset(f'{run_path}/{member}') for member in os.listdir(run_path)]\n",
    "    cleaned_members = []\n",
    "    for member in members:\n",
    "        if not 'height6' in member.coords:\n",
    "            cleaned_members.append(member)\n",
    "        else:\n",
    "            member = member.rename({'height6': 'height2'})\n",
    "            cleaned_members.append(member)\n",
    "    hour_runs = xr.concat(cleaned_members, dim='ensebmle_member')\n",
    "    all_run_datasets.append(hour_runs)\n",
    "\n",
    "ensemble = xr.concat(all_run_datasets, dim='ensebmle_member').dropna(dim='time')\n",
    "ensemble['forecast_reference_time'] = max(ensemble.forecast_reference_time)"
   ]
  },
  {
   "cell_type": "code",
   "execution_count": 65,
   "id": "e19882fd",
   "metadata": {},
   "outputs": [],
   "source": [
    "time_str = target_issuance_dt.strftime('%Y%m%dT%HZ')"
   ]
  },
  {
   "cell_type": "code",
   "execution_count": 66,
   "id": "4f820fa9",
   "metadata": {},
   "outputs": [],
   "source": [
    "ensemble.to_netcdf(f'{OUTPUT_DIR}/lagged_ensemble_{time_str}.nc')"
   ]
  }
 ],
 "metadata": {
  "kernelspec": {
   "display_name": "weather-forecast",
   "language": "python",
   "name": "python3"
  },
  "language_info": {
   "codemirror_mode": {
    "name": "ipython",
    "version": 3
   },
   "file_extension": ".py",
   "mimetype": "text/x-python",
   "name": "python",
   "nbconvert_exporter": "python",
   "pygments_lexer": "ipython3",
   "version": "3.11.13"
  }
 },
 "nbformat": 4,
 "nbformat_minor": 5
}
